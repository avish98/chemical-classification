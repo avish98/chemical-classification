{
 "cells": [
  {
   "cell_type": "markdown",
   "metadata": {},
   "source": [
    "# Organic Chemical Classification\n"
   ]
  },
  {
   "cell_type": "code",
   "execution_count": 26,
   "metadata": {},
   "outputs": [],
   "source": [
    "#Install the all lib.\n",
    "import numpy as np\n",
    "import pandas as pd\n",
    "import matplotlib.pyplot as plt\n",
    "import seaborn as sns\n",
    "plt.style.use('seaborn')\n",
    "sns.set_context('talk')\n",
    "from sklearn.preprocessing import StandardScaler\n",
    "from sklearn.model_selection import train_test_split, cross_val_score\n",
    "from sklearn.metrics import classification_report, accuracy_score\n",
    "from keras.models import Model\n",
    "from keras.layers import Dense,Input,Dropout\n"
   ]
  },
  {
   "cell_type": "markdown",
   "metadata": {},
   "source": [
    "## load the data\n"
   ]
  },
  {
   "cell_type": "code",
   "execution_count": 2,
   "metadata": {},
   "outputs": [
    {
     "data": {
      "text/html": [
       "<div>\n",
       "<style scoped>\n",
       "    .dataframe tbody tr th:only-of-type {\n",
       "        vertical-align: middle;\n",
       "    }\n",
       "\n",
       "    .dataframe tbody tr th {\n",
       "        vertical-align: top;\n",
       "    }\n",
       "\n",
       "    .dataframe thead th {\n",
       "        text-align: right;\n",
       "    }\n",
       "</style>\n",
       "<table border=\"1\" class=\"dataframe\">\n",
       "  <thead>\n",
       "    <tr style=\"text-align: right;\">\n",
       "      <th></th>\n",
       "      <th>ID</th>\n",
       "      <th>molecule_name</th>\n",
       "      <th>conformation_name</th>\n",
       "      <th>f1</th>\n",
       "      <th>f2</th>\n",
       "      <th>f3</th>\n",
       "      <th>f4</th>\n",
       "      <th>f5</th>\n",
       "      <th>f6</th>\n",
       "      <th>f7</th>\n",
       "      <th>...</th>\n",
       "      <th>f158</th>\n",
       "      <th>f159</th>\n",
       "      <th>f160</th>\n",
       "      <th>f161</th>\n",
       "      <th>f162</th>\n",
       "      <th>f163</th>\n",
       "      <th>f164</th>\n",
       "      <th>f165</th>\n",
       "      <th>f166</th>\n",
       "      <th>class</th>\n",
       "    </tr>\n",
       "  </thead>\n",
       "  <tbody>\n",
       "    <tr>\n",
       "      <th>0</th>\n",
       "      <td>1</td>\n",
       "      <td>MUSK-211</td>\n",
       "      <td>211_1+1</td>\n",
       "      <td>46</td>\n",
       "      <td>-108</td>\n",
       "      <td>-60</td>\n",
       "      <td>-69</td>\n",
       "      <td>-117</td>\n",
       "      <td>49</td>\n",
       "      <td>38</td>\n",
       "      <td>...</td>\n",
       "      <td>-308</td>\n",
       "      <td>52</td>\n",
       "      <td>-7</td>\n",
       "      <td>39</td>\n",
       "      <td>126</td>\n",
       "      <td>156</td>\n",
       "      <td>-50</td>\n",
       "      <td>-112</td>\n",
       "      <td>96</td>\n",
       "      <td>1</td>\n",
       "    </tr>\n",
       "    <tr>\n",
       "      <th>1</th>\n",
       "      <td>2</td>\n",
       "      <td>MUSK-211</td>\n",
       "      <td>211_1+10</td>\n",
       "      <td>41</td>\n",
       "      <td>-188</td>\n",
       "      <td>-145</td>\n",
       "      <td>22</td>\n",
       "      <td>-117</td>\n",
       "      <td>-6</td>\n",
       "      <td>57</td>\n",
       "      <td>...</td>\n",
       "      <td>-59</td>\n",
       "      <td>-2</td>\n",
       "      <td>52</td>\n",
       "      <td>103</td>\n",
       "      <td>136</td>\n",
       "      <td>169</td>\n",
       "      <td>-61</td>\n",
       "      <td>-136</td>\n",
       "      <td>79</td>\n",
       "      <td>1</td>\n",
       "    </tr>\n",
       "    <tr>\n",
       "      <th>2</th>\n",
       "      <td>3</td>\n",
       "      <td>MUSK-211</td>\n",
       "      <td>211_1+11</td>\n",
       "      <td>46</td>\n",
       "      <td>-194</td>\n",
       "      <td>-145</td>\n",
       "      <td>28</td>\n",
       "      <td>-117</td>\n",
       "      <td>73</td>\n",
       "      <td>57</td>\n",
       "      <td>...</td>\n",
       "      <td>-134</td>\n",
       "      <td>-154</td>\n",
       "      <td>57</td>\n",
       "      <td>143</td>\n",
       "      <td>142</td>\n",
       "      <td>165</td>\n",
       "      <td>-67</td>\n",
       "      <td>-145</td>\n",
       "      <td>39</td>\n",
       "      <td>1</td>\n",
       "    </tr>\n",
       "    <tr>\n",
       "      <th>3</th>\n",
       "      <td>4</td>\n",
       "      <td>MUSK-211</td>\n",
       "      <td>211_1+12</td>\n",
       "      <td>41</td>\n",
       "      <td>-188</td>\n",
       "      <td>-145</td>\n",
       "      <td>22</td>\n",
       "      <td>-117</td>\n",
       "      <td>-7</td>\n",
       "      <td>57</td>\n",
       "      <td>...</td>\n",
       "      <td>-60</td>\n",
       "      <td>-4</td>\n",
       "      <td>52</td>\n",
       "      <td>104</td>\n",
       "      <td>136</td>\n",
       "      <td>168</td>\n",
       "      <td>-60</td>\n",
       "      <td>-135</td>\n",
       "      <td>80</td>\n",
       "      <td>1</td>\n",
       "    </tr>\n",
       "    <tr>\n",
       "      <th>4</th>\n",
       "      <td>5</td>\n",
       "      <td>MUSK-211</td>\n",
       "      <td>211_1+13</td>\n",
       "      <td>41</td>\n",
       "      <td>-188</td>\n",
       "      <td>-145</td>\n",
       "      <td>22</td>\n",
       "      <td>-117</td>\n",
       "      <td>-7</td>\n",
       "      <td>57</td>\n",
       "      <td>...</td>\n",
       "      <td>-60</td>\n",
       "      <td>-4</td>\n",
       "      <td>52</td>\n",
       "      <td>104</td>\n",
       "      <td>137</td>\n",
       "      <td>168</td>\n",
       "      <td>-60</td>\n",
       "      <td>-135</td>\n",
       "      <td>80</td>\n",
       "      <td>1</td>\n",
       "    </tr>\n",
       "  </tbody>\n",
       "</table>\n",
       "<p>5 rows × 170 columns</p>\n",
       "</div>"
      ],
      "text/plain": [
       "   ID molecule_name conformation_name  f1   f2   f3  f4   f5  f6  f7  ...  \\\n",
       "0   1      MUSK-211           211_1+1  46 -108  -60 -69 -117  49  38  ...   \n",
       "1   2      MUSK-211          211_1+10  41 -188 -145  22 -117  -6  57  ...   \n",
       "2   3      MUSK-211          211_1+11  46 -194 -145  28 -117  73  57  ...   \n",
       "3   4      MUSK-211          211_1+12  41 -188 -145  22 -117  -7  57  ...   \n",
       "4   5      MUSK-211          211_1+13  41 -188 -145  22 -117  -7  57  ...   \n",
       "\n",
       "   f158  f159  f160  f161  f162  f163  f164  f165  f166  class  \n",
       "0  -308    52    -7    39   126   156   -50  -112    96      1  \n",
       "1   -59    -2    52   103   136   169   -61  -136    79      1  \n",
       "2  -134  -154    57   143   142   165   -67  -145    39      1  \n",
       "3   -60    -4    52   104   136   168   -60  -135    80      1  \n",
       "4   -60    -4    52   104   137   168   -60  -135    80      1  \n",
       "\n",
       "[5 rows x 170 columns]"
      ]
     },
     "execution_count": 2,
     "metadata": {},
     "output_type": "execute_result"
    }
   ],
   "source": [
    "data = pd .read_csv(\"C:\\\\Users\\\\Dell\\\\Downloads\\\\musk_csv.csv\")\n",
    "data.head()"
   ]
  },
  {
   "cell_type": "markdown",
   "metadata": {},
   "source": [
    "## Understanding the data"
   ]
  },
  {
   "cell_type": "code",
   "execution_count": 3,
   "metadata": {},
   "outputs": [
    {
     "name": "stdout",
     "output_type": "stream",
     "text": [
      "(6598, 170)\n"
     ]
    }
   ],
   "source": [
    "# Total no of records\n",
    "print(data.shape)"
   ]
  },
  {
   "cell_type": "code",
   "execution_count": 4,
   "metadata": {},
   "outputs": [
    {
     "name": "stdout",
     "output_type": "stream",
     "text": [
      "Index(['ID', 'molecule_name', 'conformation_name', 'f1', 'f2', 'f3', 'f4',\n",
      "       'f5', 'f6', 'f7',\n",
      "       ...\n",
      "       'f158', 'f159', 'f160', 'f161', 'f162', 'f163', 'f164', 'f165', 'f166',\n",
      "       'class'],\n",
      "      dtype='object', length=170)\n"
     ]
    }
   ],
   "source": [
    "#Number of column in our data\n",
    "print(data.columns)"
   ]
  },
  {
   "cell_type": "code",
   "execution_count": 5,
   "metadata": {},
   "outputs": [
    {
     "name": "stdout",
     "output_type": "stream",
     "text": [
      "<class 'pandas.core.frame.DataFrame'>\n",
      "RangeIndex: 6598 entries, 0 to 6597\n",
      "Columns: 170 entries, ID to class\n",
      "dtypes: int64(168), object(2)\n",
      "memory usage: 8.6+ MB\n",
      "None\n"
     ]
    }
   ],
   "source": [
    "# Information about datatypes of columns\n",
    "print(data.info())"
   ]
  },
  {
   "cell_type": "markdown",
   "metadata": {},
   "source": [
    "### check for data imbalanced or not\n"
   ]
  },
  {
   "cell_type": "code",
   "execution_count": 6,
   "metadata": {},
   "outputs": [
    {
     "data": {
      "image/png": "[encoded data removed]",
      "text/plain": [
       "<Figure size 432x288 with 1 Axes>"
      ]
     },
     "metadata": {
      "needs_background": "light"
     },
     "output_type": "display_data"
    }
   ],
   "source": [
    "sns.countplot(data['class'])\n",
    "plt.show()"
   ]
  },
  {
   "cell_type": "markdown",
   "metadata": {},
   "source": [
    "### The  dataset is imbalanced and class 1 is minority so data must be balanced so we balanced the data later on"
   ]
  },
  {
   "cell_type": "code",
   "execution_count": 7,
   "metadata": {},
   "outputs": [
    {
     "name": "stdout",
     "output_type": "stream",
     "text": [
      "NON-MUSK-j146    1044\n",
      "NON-MUSK-252     1010\n",
      "NON-MUSK-j147     911\n",
      "NON-MUSK-f146     383\n",
      "NON-MUSK-288      344\n",
      "NON-MUSK-192      286\n",
      "NON-MUSK-197      277\n",
      "MUSK-217          215\n",
      "NON-MUSK-326      141\n",
      "NON-MUSK-251      140\n",
      "NON-MUSK-216      135\n",
      "NON-MUSK-233      104\n",
      "NON-MUSK-270       83\n",
      "MUSK-240           82\n",
      "MUSK-213           78\n",
      "MUSK-215           73\n",
      "MUSK-287           64\n",
      "NON-MUSK-f209      63\n",
      "NON-MUSK-jp13      63\n",
      "NON-MUSK-286       59\n",
      "NON-MUSK-220       53\n",
      "NON-MUSK-207       48\n",
      "MUSK-f158          43\n",
      "NON-MUSK-244       40\n",
      "MUSK-f152          36\n",
      "NON-MUSK-232       34\n",
      "MUSK-jf67          32\n",
      "MUSK-212           31\n",
      "NON-MUSK-249       29\n",
      "MUSK-256           29\n",
      "                 ... \n",
      "NON-MUSK-jp10       5\n",
      "NON-MUSK-jf18       4\n",
      "NON-MUSK-360        4\n",
      "MUSK-344            4\n",
      "NON-MUSK-jf79       4\n",
      "MUSK-321            4\n",
      "NON-MUSK-296        4\n",
      "NON-MUSK-332        4\n",
      "MUSK-jf15           4\n",
      "NON-MUSK-338        4\n",
      "NON-MUSK-271        4\n",
      "NON-MUSK-297        4\n",
      "NON-MUSK-j83        4\n",
      "NON-MUSK-j81        4\n",
      "NON-MUSK-253        4\n",
      "NON-MUSK-320        4\n",
      "NON-MUSK-j84        4\n",
      "NON-MUSK-334        4\n",
      "NON-MUSK-j130       2\n",
      "NON-MUSK-295        2\n",
      "NON-MUSK-358        2\n",
      "MUSK-300            2\n",
      "MUSK-306            2\n",
      "NON-MUSK-309        2\n",
      "NON-MUSK-318        2\n",
      "NON-MUSK-305        2\n",
      "NON-MUSK-308        2\n",
      "NON-MUSK-290        2\n",
      "NON-MUSK-j96        1\n",
      "NON-MUSK-j97        1\n",
      "Name: molecule_name, Length: 102, dtype: int64\n"
     ]
    },
    {
     "data": {
      "text/plain": [
       "<matplotlib.axes._subplots.AxesSubplot at 0x2877e0103c8>"
      ]
     },
     "execution_count": 7,
     "metadata": {},
     "output_type": "execute_result"
    },
    {
     "data": {
      "image/png": "[encoded data removed]",
      "text/plain": [
       "<Figure size 432x288 with 1 Axes>"
      ]
     },
     "metadata": {
      "needs_background": "light"
     },
     "output_type": "display_data"
    }
   ],
   "source": [
    "print(data['molecule_name'].value_counts())\n",
    "data['molecule_name'].value_counts()[:5].plot(kind='barh')"
   ]
  },
  {
   "cell_type": "markdown",
   "metadata": {},
   "source": [
    "## pre processing"
   ]
  },
  {
   "cell_type": "code",
   "execution_count": 8,
   "metadata": {},
   "outputs": [
    {
     "data": {
      "text/plain": [
       "False"
      ]
     },
     "execution_count": 8,
     "metadata": {},
     "output_type": "execute_result"
    }
   ],
   "source": [
    "#check for null values\n",
    "data.isnull().values.any()"
   ]
  },
  {
   "cell_type": "code",
   "execution_count": 9,
   "metadata": {},
   "outputs": [
    {
     "name": "stdout",
     "output_type": "stream",
     "text": [
      "Before check (6598, 170)\n",
      "After Check (6598, 170)\n"
     ]
    }
   ],
   "source": [
    "# check for duplicate record\n",
    "print('Before check',data.shape)\n",
    "data =data.drop_duplicates()\n",
    "print('After Check',data.shape)"
   ]
  },
  {
   "cell_type": "markdown",
   "metadata": {},
   "source": [
    "there is no duplicate record"
   ]
  },
  {
   "cell_type": "code",
   "execution_count": 10,
   "metadata": {},
   "outputs": [],
   "source": [
    "# Split the data into features and label\n",
    "features = data.drop(['molecule_name', 'conformation_name', 'class'], axis = 1)\n",
    "label = data['class']"
   ]
  },
  {
   "cell_type": "markdown",
   "metadata": {},
   "source": [
    "### convert the features in same scale"
   ]
  },
  {
   "cell_type": "code",
   "execution_count": 11,
   "metadata": {},
   "outputs": [],
   "source": [
    "# Standardized the data features\n",
    "sc = StandardScaler()\n",
    "features = sc.fit_transform(features)"
   ]
  },
  {
   "cell_type": "code",
   "execution_count": 81,
   "metadata": {},
   "outputs": [
    {
     "data": {
      "text/plain": [
       "array([[-1.73178832, -0.24312408,  0.12255207, ..., -0.04561267,\n",
       "         0.50333227,  0.5762445 ],\n",
       "       [-1.73126329, -0.33702966, -0.7584422 , ..., -0.24537589,\n",
       "         0.18759789,  0.39560282],\n",
       "       [-1.73073827, -0.24312408, -0.82451677, ..., -0.35433764,\n",
       "         0.06919749, -0.02943645],\n",
       "       ...,\n",
       "       [ 1.73073827, -0.28068632,  0.18862664, ..., -0.33617735,\n",
       "         0.08235309, -0.50760562],\n",
       "       [ 1.73126329, -0.1492185 , -0.0206095 , ...,  0.06334909,\n",
       "         0.45070987,  0.79939012],\n",
       "       [ 1.73178832, -0.1492185 , -0.03162193, ...,  0.06334909,\n",
       "         0.46386547,  0.8100161 ]])"
      ]
     },
     "execution_count": 81,
     "metadata": {},
     "output_type": "execute_result"
    }
   ],
   "source": [
    "features"
   ]
  },
  {
   "cell_type": "markdown",
   "metadata": {},
   "source": [
    "###  Randomly split the data in 80:20 train and validation data"
   ]
  },
  {
   "cell_type": "code",
   "execution_count": 12,
   "metadata": {},
   "outputs": [],
   "source": [
    "# Split data into train and test set set\n",
    "X_train, X_val, y_train, y_val = train_test_split(features, label, test_size = 0.2, random_state = 42)\n"
   ]
  },
  {
   "cell_type": "code",
   "execution_count": 13,
   "metadata": {},
   "outputs": [
    {
     "name": "stdout",
     "output_type": "stream",
     "text": [
      "Shape of train data : (5278, 167)\n",
      "Shape of validation data : (1320, 167)\n"
     ]
    }
   ],
   "source": [
    "# shape of train, validate and test dataset\n",
    "print(f'Shape of train data : {X_train.shape}')\n",
    "print(f'Shape of validation data : {X_val.shape}')"
   ]
  },
  {
   "cell_type": "code",
   "execution_count": 18,
   "metadata": {},
   "outputs": [
    {
     "name": "stdout",
     "output_type": "stream",
     "text": [
      "Shape of train data after applying sampling technique : (8940, 167)\n"
     ]
    }
   ],
   "source": [
    "# OverSampling on train data to get rid of class imbalance problem\n",
    "from imblearn.over_sampling import SMOTE\n",
    "sm = SMOTE(1.0, random_state = 42)\n",
    "X_train, y_train = sm.fit_sample(X_train, y_train)\n",
    "\n",
    "print(f'Shape of train data after applying sampling technique : {X_train.shape}')"
   ]
  },
  {
   "cell_type": "code",
   "execution_count": 19,
   "metadata": {},
   "outputs": [
    {
     "data": {
      "image/png": "[encoded data removed]",
      "text/plain": [
       "<Figure size 432x288 with 1 Axes>"
      ]
     },
     "metadata": {
      "needs_background": "light"
     },
     "output_type": "display_data"
    }
   ],
   "source": [
    "# lets check the label columns after applying sampling tehnique\n",
    "sns.countplot(y_train)\n",
    "plt.show()"
   ]
  },
  {
   "cell_type": "markdown",
   "metadata": {},
   "source": [
    "### After sampling , rid of the ubalanced data"
   ]
  },
  {
   "cell_type": "code",
   "execution_count": 65,
   "metadata": {},
   "outputs": [],
   "source": [
    "# Build the Multi-layer perceptron model (ANN)\n",
    "in_layer = Input(shape=[167])\n",
    "dense_2 = Dense(90, activation=\"relu\")(in_layer)\n",
    "drop = Dropout(rate=.25)(dense_2)\n",
    "dense_3 = Dense(30, activation=\"relu\")(drop)\n",
    "dense_4 = Dense(10,activation=\"relu\")(dense_3)\n",
    "out = Dense(1, activation=\"sigmoid\")(dense_4)"
   ]
  },
  {
   "cell_type": "code",
   "execution_count": 66,
   "metadata": {},
   "outputs": [],
   "source": [
    "model = Model(inputs=[in_layer], outputs=[out])"
   ]
  },
  {
   "cell_type": "code",
   "execution_count": 67,
   "metadata": {},
   "outputs": [
    {
     "name": "stdout",
     "output_type": "stream",
     "text": [
      "_________________________________________________________________\n",
      "Layer (type)                 Output Shape              Param #   \n",
      "=================================================================\n",
      "input_6 (InputLayer)         (None, 167)               0         \n",
      "_________________________________________________________________\n",
      "dense_21 (Dense)             (None, 90)                15120     \n",
      "_________________________________________________________________\n",
      "dropout_6 (Dropout)          (None, 90)                0         \n",
      "_________________________________________________________________\n",
      "dense_22 (Dense)             (None, 30)                2730      \n",
      "_________________________________________________________________\n",
      "dense_23 (Dense)             (None, 10)                310       \n",
      "_________________________________________________________________\n",
      "dense_24 (Dense)             (None, 1)                 11        \n",
      "=================================================================\n",
      "Total params: 18,171\n",
      "Trainable params: 18,171\n",
      "Non-trainable params: 0\n",
      "_________________________________________________________________\n"
     ]
    }
   ],
   "source": [
    "model.summary()"
   ]
  },
  {
   "cell_type": "code",
   "execution_count": 68,
   "metadata": {},
   "outputs": [],
   "source": [
    "model.compile(optimizer=\"adam\", loss=\"binary_crossentropy\", metrics=[\"acc\"])"
   ]
  },
  {
   "cell_type": "code",
   "execution_count": 79,
   "metadata": {},
   "outputs": [
    {
     "data": {
      "text/plain": [
       "(8940, 167)"
      ]
     },
     "execution_count": 79,
     "metadata": {},
     "output_type": "execute_result"
    }
   ],
   "source": [
    "X_train.shape"
   ]
  },
  {
   "cell_type": "code",
   "execution_count": 80,
   "metadata": {},
   "outputs": [
    {
     "data": {
      "text/plain": [
       "(8940,)"
      ]
     },
     "execution_count": 80,
     "metadata": {},
     "output_type": "execute_result"
    }
   ],
   "source": [
    "y_train.shape"
   ]
  },
  {
   "cell_type": "code",
   "execution_count": 69,
   "metadata": {},
   "outputs": [
    {
     "name": "stdout",
     "output_type": "stream",
     "text": [
      "Train on 8940 samples, validate on 1320 samples\n",
      "Epoch 1/10\n",
      "8940/8940 [==============================] - 1s 129us/step - loss: 0.1884 - acc: 0.9190 - val_loss: 0.0449 - val_acc: 0.9841\n",
      "Epoch 2/10\n",
      "8940/8940 [==============================] - 0s 55us/step - loss: 0.0263 - acc: 0.9916 - val_loss: 0.0153 - val_acc: 0.9947\n",
      "Epoch 3/10\n",
      "8940/8940 [==============================] - 0s 56us/step - loss: 0.0119 - acc: 0.9953 - val_loss: 0.0057 - val_acc: 0.9977\n",
      "Epoch 4/10\n",
      "8940/8940 [==============================] - 1s 58us/step - loss: 0.0098 - acc: 0.9970 - val_loss: 0.0024 - val_acc: 0.9992\n",
      "Epoch 5/10\n",
      "8940/8940 [==============================] - 1s 57us/step - loss: 0.0070 - acc: 0.9975 - val_loss: 0.0142 - val_acc: 0.9955\n",
      "Epoch 6/10\n",
      "8940/8940 [==============================] - 0s 56us/step - loss: 0.0086 - acc: 0.9968 - val_loss: 9.6578e-04 - val_acc: 1.0000\n",
      "Epoch 7/10\n",
      "8940/8940 [==============================] - 1s 56us/step - loss: 0.0046 - acc: 0.9981 - val_loss: 7.5051e-04 - val_acc: 1.0000\n",
      "Epoch 8/10\n",
      "8940/8940 [==============================] - 1s 57us/step - loss: 0.0023 - acc: 0.9992 - val_loss: 0.0010 - val_acc: 1.0000\n",
      "Epoch 9/10\n",
      "8940/8940 [==============================] - 1s 84us/step - loss: 0.0023 - acc: 0.9991 - val_loss: 1.9878e-04 - val_acc: 1.0000\n",
      "Epoch 10/10\n",
      "8940/8940 [==============================] - 1s 89us/step - loss: 0.0022 - acc: 0.9993 - val_loss: 4.1382e-04 - val_acc: 1.0000\n"
     ]
    }
   ],
   "source": [
    "hist = model.fit(X_train, y_train, epochs=10,validation_data=(X_val,y_val))"
   ]
  },
  {
   "cell_type": "code",
   "execution_count": 70,
   "metadata": {},
   "outputs": [],
   "source": [
    "h = hist.history"
   ]
  },
  {
   "cell_type": "code",
   "execution_count": 71,
   "metadata": {},
   "outputs": [
    {
     "data": {
      "image/png": "[encoded data removed]",
      "text/plain": [
       "<Figure size 576x396 with 1 Axes>"
      ]
     },
     "metadata": {},
     "output_type": "display_data"
    }
   ],
   "source": [
    "plt.plot(h['val_loss'],label = \"validation loss\")\n",
    "plt.plot(h['loss'],label = \"training loss\")\n",
    "plt.xlabel(\"epochs\")\n",
    "plt.ylabel(\"loss\")\n",
    "plt.legend()\n",
    "plt.show()"
   ]
  },
  {
   "cell_type": "code",
   "execution_count": 72,
   "metadata": {},
   "outputs": [
    {
     "data": {
      "image/png": "[encoded data removed]",
      "text/plain": [
       "<Figure size 576x396 with 1 Axes>"
      ]
     },
     "metadata": {},
     "output_type": "display_data"
    }
   ],
   "source": [
    "plt.plot(h['val_acc'],label = \"validation acc\")\n",
    "plt.plot(h['acc'],label = \"training acc\")\n",
    "plt.xlabel(\"epochs\")\n",
    "plt.ylabel(\"loss\")\n",
    "plt.legend()\n",
    "plt.show()"
   ]
  },
  {
   "cell_type": "code",
   "execution_count": 82,
   "metadata": {},
   "outputs": [],
   "source": [
    "\n",
    "# predictions given by our model on validation data\n",
    "y_pred = model.predict(X_val)\n",
    "y_pred = (y_pred > 0.5)   # set a threshold of 0.5"
   ]
  },
  {
   "cell_type": "markdown",
   "metadata": {},
   "source": [
    "## final performance of a model"
   ]
  },
  {
   "cell_type": "code",
   "execution_count": 75,
   "metadata": {},
   "outputs": [],
   "source": [
    "from sklearn.metrics import accuracy_score\n",
    "from sklearn.metrics import precision_score\n",
    "from sklearn.metrics import recall_score\n",
    "from sklearn.metrics import f1_score"
   ]
  },
  {
   "cell_type": "code",
   "execution_count": null,
   "metadata": {},
   "outputs": [],
   "source": []
  },
  {
   "cell_type": "code",
   "execution_count": 83,
   "metadata": {},
   "outputs": [
    {
     "name": "stdout",
     "output_type": "stream",
     "text": [
      "Accuracy: 1.000000\n",
      "Precision: 1.000000\n",
      "Recall: 1.000000\n",
      "F1 score: 1.000000\n"
     ]
    }
   ],
   "source": [
    "# accuracy: (tp + tn) / (p + n)\n",
    "accuracy = accuracy_score(y_val, y_pred)\n",
    "print('Accuracy: %f' % accuracy)\n",
    "# precision tp / (tp + fp)\n",
    "precision = precision_score(y_val, y_pred)\n",
    "print('Precision: %f' % precision)\n",
    "# recall: tp / (tp + fn)\n",
    "recall = recall_score(y_val, y_pred)\n",
    "print('Recall: %f' % recall)\n",
    "# f1: 2 tp / (2 tp + fp + fn)\n",
    "f1 = f1_score(y_val, y_pred)\n",
    "print('F1 score: %f' % f1)"
   ]
  },
  {
   "cell_type": "code",
   "execution_count": 84,
   "metadata": {},
   "outputs": [
    {
     "name": "stdout",
     "output_type": "stream",
     "text": [
      "              precision    recall  f1-score   support\n",
      "\n",
      "           0       1.00      1.00      1.00      1111\n",
      "           1       1.00      1.00      1.00       209\n",
      "\n",
      "    accuracy                           1.00      1320\n",
      "   macro avg       1.00      1.00      1.00      1320\n",
      "weighted avg       1.00      1.00      1.00      1320\n",
      "\n"
     ]
    }
   ],
   "source": [
    "\n",
    "# Classification report \n",
    "print(classification_report(y_val, y_pred))"
   ]
  },
  {
   "cell_type": "code",
   "execution_count": 85,
   "metadata": {},
   "outputs": [],
   "source": [
    "\n",
    "# save the weights of the model\n",
    "model.save_weights('musk.h5')"
   ]
  },
  {
   "cell_type": "code",
   "execution_count": 86,
   "metadata": {},
   "outputs": [
    {
     "name": "stderr",
     "output_type": "stream",
     "text": [
      "'push' is not recognized as an internal or external command,\n",
      "operable program or batch file.\n"
     ]
    }
   ],
   "source": []
  },
  {
   "cell_type": "code",
   "execution_count": null,
   "metadata": {},
   "outputs": [],
   "source": []
  }
 ],
 "metadata": {
  "kernelspec": {
   "display_name": "Python 3",
   "language": "python",
   "name": "python3"
  },
  "language_info": {
   "codemirror_mode": {
    "name": "ipython",
    "version": 3
   },
   "file_extension": ".py",
   "mimetype": "text/x-python",
   "name": "python",
   "nbconvert_exporter": "python",
   "pygments_lexer": "ipython3",
   "version": "3.7.3"
  }
 },
 "nbformat": 4,
 "nbformat_minor": 2
}
